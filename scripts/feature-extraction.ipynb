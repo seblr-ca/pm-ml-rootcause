{
 "cells": [
  {
   "cell_type": "markdown",
   "metadata": {},
   "source": [
    "# Feature Extraction"
   ]
  },
  {
   "cell_type": "markdown",
   "metadata": {},
   "source": [
    "#### Dependencies"
   ]
  },
  {
   "cell_type": "code",
   "execution_count": 1,
   "metadata": {},
   "outputs": [],
   "source": [
    "import pm4py\n",
    "import numpy as np\n",
    "import pandas as pd\n",
    "import matplotlib.pyplot as plt\n",
    "import seaborn as sns\n",
    "from IPython.display import display"
   ]
  },
  {
   "cell_type": "markdown",
   "metadata": {},
   "source": [
    "#### Event Log Import"
   ]
  },
  {
   "cell_type": "code",
   "execution_count": 2,
   "metadata": {},
   "outputs": [],
   "source": [
    "non_conforming_log_df = pd.read_pickle(\"filtered-non-conforminlog.pkl\")"
   ]
  },
  {
   "cell_type": "markdown",
   "metadata": {},
   "source": [
    "#### Normative Model Import"
   ]
  },
  {
   "cell_type": "code",
   "execution_count": null,
   "metadata": {},
   "outputs": [],
   "source": [
    "file_path = r\"\"\n",
    "normative_petri_net = pm4py.read_pnml(file_path)"
   ]
  },
  {
   "cell_type": "markdown",
   "metadata": {},
   "source": [
    "## Feature Extraction from Log"
   ]
  },
  {
   "cell_type": "code",
   "execution_count": 4,
   "metadata": {},
   "outputs": [],
   "source": [
    "features_df = pm4py.extract_features_dataframe(\n",
    "    non_conforming_log_df,\n",
    "    activity_key='concept:name',\n",
    "    case_id_key='case:concept:name',\n",
    "    timestamp_key='time:timestamp',\n",
    "    str_tr_attr=[], \t\n",
    "    num_tr_attr=[\"Amount\", \"RequestedAmount\", \"OriginalAmount\", \"Permit RequestedBudget\", \"AdjustedAmount\"],\n",
    "    str_ev_attr=['org:role'],\n",
    "    include_case_id=True\n",
    ")"
   ]
  },
  {
   "cell_type": "code",
   "execution_count": 5,
   "metadata": {},
   "outputs": [],
   "source": [
    "trace_attributes_df = non_conforming_log_df.groupby(\"case:concept:name\").agg({\n",
    "    \"case:Permit BudgetNumber\": \"first\",\n",
    "    \"case:Permit OrganizationalEntity\": \"first\", \n",
    "    \"case:Permit ProjectNumber\": \"first\", \n",
    "    \"case:BudgetNumber\": \"first\"\n",
    "}).reset_index()\n",
    "\n",
    "features_df[\"case:concept:name\"] = trace_attributes_df[\"case:concept:name\"]\n",
    "features_tr_att_df = pd.merge(features_df, trace_attributes_df, on=\"case:concept:name\", how=\"left\")\n"
   ]
  },
  {
   "cell_type": "code",
   "execution_count": 6,
   "metadata": {},
   "outputs": [],
   "source": [
    "frequency_table = non_conforming_log_df.groupby([\"case:concept:name\", \"concept:name\"]).size().unstack(fill_value=0)\n",
    "frequency_table = frequency_table.reset_index()\n",
    "\n",
    "features_freq_df = pd.merge(features_tr_att_df, frequency_table, on=\"case:concept:name\", how=\"left\")"
   ]
  },
  {
   "cell_type": "markdown",
   "metadata": {},
   "source": [
    "## Performance Metrics"
   ]
  },
  {
   "cell_type": "markdown",
   "metadata": {},
   "source": [
    "### Fitness"
   ]
  },
  {
   "cell_type": "code",
   "execution_count": 8,
   "metadata": {},
   "outputs": [],
   "source": [
    "from pm4py.objects.conversion.log import converter as log_converter\n",
    "\n",
    "fitness_scores = []\n",
    "\n",
    "for case_id in features_freq_df[\"case:concept:name\"]:\n",
    "    trace_df = non_conforming_log_df[non_conforming_log_df[\"case:concept:name\"] == case_id]\n",
    "\n",
    "    sublog = log_converter.apply(trace_df, variant=log_converter.Variants.TO_EVENT_LOG)\n",
    "\n",
    "    fitness = pm4py.fitness_token_based_replay(\n",
    "    sublog,\n",
    "    normative_petri_net[0],\n",
    "    normative_petri_net[1],\n",
    "    normative_petri_net[2],\n",
    "    activity_key='concept:name',\n",
    "    case_id_key='case:concept:name',\n",
    "    timestamp_key='time:timestamp'\n",
    "    )\n",
    "\n",
    "    fitness_value = fitness.get(\"average_trace_fitness\")\n",
    "    fitness_scores.append((case_id, fitness_value))\n",
    "\n",
    "fitness_df = pd.DataFrame(fitness_scores, columns=[\"case:concept:name\", \"token_fitness\"])\n",
    "\n",
    "features_fit_df = features_freq_df.merge(fitness_df, on=\"case:concept:name\", how=\"left\")\n"
   ]
  },
  {
   "cell_type": "code",
   "execution_count": 9,
   "metadata": {},
   "outputs": [
    {
     "data": {
      "image/png": "[encoded data removed]",
      "text/plain": [
       "<Figure size 720x360 with 1 Axes>"
      ]
     },
     "metadata": {
      "needs_background": "light"
     },
     "output_type": "display_data"
    }
   ],
   "source": [
    "plt.figure(figsize=(10, 5))\n",
    "sns.histplot(features_fit_df[\"token_fitness\"], bins=20, kde=True, color=\"skyblue\")\n",
    "\n",
    "plt.title(\"Distribution of Token-Based Fitness Scores per Trace\")\n",
    "plt.xlabel(\"Token Fitness Score\")\n",
    "plt.ylabel(\"Number of Traces\")\n",
    "plt.tight_layout()\n",
    "plt.show()"
   ]
  },
  {
   "cell_type": "markdown",
   "metadata": {},
   "source": [
    "### Trace Duration & Event Count"
   ]
  },
  {
   "cell_type": "code",
   "execution_count": 10,
   "metadata": {},
   "outputs": [],
   "source": [
    "trace_duration_df = non_conforming_log_df.groupby(\"case:concept:name\")[\"time:timestamp\"].agg(\n",
    "    trace_start=\"min\",\n",
    "    trace_end=\"max\"\n",
    ").reset_index()\n",
    "\n",
    "trace_duration_df[\"trace_duration_days\"] = (trace_duration_df[\"trace_end\"] - trace_duration_df[\"trace_start\"]).dt.total_seconds() / (60 * 60 * 24)\n",
    "\n",
    "trace_event_count_df = non_conforming_log_df.groupby(\"case:concept:name\").size().reset_index(name=\"num_events\")\n",
    "\n",
    "features_duration_df = features_fit_df.merge(trace_duration_df[[\"case:concept:name\", \"trace_duration_days\"]], on=\"case:concept:name\", how=\"left\")\n",
    "features_ev_count_df = features_duration_df.merge(trace_event_count_df, on=\"case:concept:name\", how=\"left\")"
   ]
  },
  {
   "cell_type": "code",
   "execution_count": 11,
   "metadata": {},
   "outputs": [
    {
     "data": {
      "text/html": [
       "<div>\n",
       "<style scoped>\n",
       "    .dataframe tbody tr th:only-of-type {\n",
       "        vertical-align: middle;\n",
       "    }\n",
       "\n",
       "    .dataframe tbody tr th {\n",
       "        vertical-align: top;\n",
       "    }\n",
       "\n",
       "    .dataframe thead th {\n",
       "        text-align: right;\n",
       "    }\n",
       "</style>\n",
       "<table border=\"1\" class=\"dataframe\">\n",
       "  <thead>\n",
       "    <tr style=\"text-align: right;\">\n",
       "      <th></th>\n",
       "      <th>case:concept:name</th>\n",
       "      <th>case:AdjustedAmount</th>\n",
       "      <th>case:OriginalAmount</th>\n",
       "      <th>org:role_EMPLOYEE</th>\n",
       "      <th>org:role_ADMINISTRATION</th>\n",
       "      <th>org:role_SUPERVISOR</th>\n",
       "      <th>org:role_UNDEFINED</th>\n",
       "      <th>org:role_BUDGETOWNER</th>\n",
       "      <th>org:role_DIRECTOR</th>\n",
       "      <th>org:role_MISSING</th>\n",
       "      <th>...</th>\n",
       "      <th>Permit REJECTED by MISSING</th>\n",
       "      <th>Permit REJECTED by PRE_APPROVER</th>\n",
       "      <th>Permit REJECTED by SUPERVISOR</th>\n",
       "      <th>Permit SUBMITTED by EMPLOYEE</th>\n",
       "      <th>Request Payment</th>\n",
       "      <th>Send Reminder</th>\n",
       "      <th>Start trip</th>\n",
       "      <th>token_fitness</th>\n",
       "      <th>trace_duration_days</th>\n",
       "      <th>num_events</th>\n",
       "    </tr>\n",
       "  </thead>\n",
       "  <tbody>\n",
       "    <tr>\n",
       "      <th>0</th>\n",
       "      <td>declaration 10069</td>\n",
       "      <td>71.195831</td>\n",
       "      <td>71.195831</td>\n",
       "      <td>1.0</td>\n",
       "      <td>1.0</td>\n",
       "      <td>1.0</td>\n",
       "      <td>1.0</td>\n",
       "      <td>0.0</td>\n",
       "      <td>0.0</td>\n",
       "      <td>0.0</td>\n",
       "      <td>...</td>\n",
       "      <td>0</td>\n",
       "      <td>0</td>\n",
       "      <td>0</td>\n",
       "      <td>1</td>\n",
       "      <td>1</td>\n",
       "      <td>0</td>\n",
       "      <td>1</td>\n",
       "      <td>0.958333</td>\n",
       "      <td>8.043854</td>\n",
       "      <td>10</td>\n",
       "    </tr>\n",
       "    <tr>\n",
       "      <th>1</th>\n",
       "      <td>declaration 10089</td>\n",
       "      <td>3146.344971</td>\n",
       "      <td>3146.344971</td>\n",
       "      <td>1.0</td>\n",
       "      <td>1.0</td>\n",
       "      <td>1.0</td>\n",
       "      <td>1.0</td>\n",
       "      <td>0.0</td>\n",
       "      <td>0.0</td>\n",
       "      <td>0.0</td>\n",
       "      <td>...</td>\n",
       "      <td>0</td>\n",
       "      <td>0</td>\n",
       "      <td>0</td>\n",
       "      <td>1</td>\n",
       "      <td>1</td>\n",
       "      <td>0</td>\n",
       "      <td>1</td>\n",
       "      <td>0.969697</td>\n",
       "      <td>97.312303</td>\n",
       "      <td>13</td>\n",
       "    </tr>\n",
       "    <tr>\n",
       "      <th>2</th>\n",
       "      <td>declaration 10455</td>\n",
       "      <td>586.435608</td>\n",
       "      <td>586.435608</td>\n",
       "      <td>1.0</td>\n",
       "      <td>1.0</td>\n",
       "      <td>1.0</td>\n",
       "      <td>1.0</td>\n",
       "      <td>1.0</td>\n",
       "      <td>0.0</td>\n",
       "      <td>0.0</td>\n",
       "      <td>...</td>\n",
       "      <td>0</td>\n",
       "      <td>0</td>\n",
       "      <td>1</td>\n",
       "      <td>2</td>\n",
       "      <td>1</td>\n",
       "      <td>0</td>\n",
       "      <td>1</td>\n",
       "      <td>0.974359</td>\n",
       "      <td>40.138924</td>\n",
       "      <td>17</td>\n",
       "    </tr>\n",
       "    <tr>\n",
       "      <th>3</th>\n",
       "      <td>declaration 10472</td>\n",
       "      <td>679.303223</td>\n",
       "      <td>679.303223</td>\n",
       "      <td>1.0</td>\n",
       "      <td>1.0</td>\n",
       "      <td>1.0</td>\n",
       "      <td>1.0</td>\n",
       "      <td>1.0</td>\n",
       "      <td>0.0</td>\n",
       "      <td>0.0</td>\n",
       "      <td>...</td>\n",
       "      <td>0</td>\n",
       "      <td>0</td>\n",
       "      <td>0</td>\n",
       "      <td>1</td>\n",
       "      <td>1</td>\n",
       "      <td>0</td>\n",
       "      <td>1</td>\n",
       "      <td>0.869565</td>\n",
       "      <td>14.404468</td>\n",
       "      <td>12</td>\n",
       "    </tr>\n",
       "    <tr>\n",
       "      <th>4</th>\n",
       "      <td>declaration 10552</td>\n",
       "      <td>997.438721</td>\n",
       "      <td>997.438721</td>\n",
       "      <td>1.0</td>\n",
       "      <td>1.0</td>\n",
       "      <td>1.0</td>\n",
       "      <td>1.0</td>\n",
       "      <td>1.0</td>\n",
       "      <td>0.0</td>\n",
       "      <td>0.0</td>\n",
       "      <td>...</td>\n",
       "      <td>0</td>\n",
       "      <td>0</td>\n",
       "      <td>0</td>\n",
       "      <td>2</td>\n",
       "      <td>1</td>\n",
       "      <td>0</td>\n",
       "      <td>1</td>\n",
       "      <td>0.957447</td>\n",
       "      <td>62.796690</td>\n",
       "      <td>19</td>\n",
       "    </tr>\n",
       "  </tbody>\n",
       "</table>\n",
       "<p>5 rows × 53 columns</p>\n",
       "</div>"
      ],
      "text/plain": [
       "   case:concept:name  case:AdjustedAmount  case:OriginalAmount  \\\n",
       "0  declaration 10069            71.195831            71.195831   \n",
       "1  declaration 10089          3146.344971          3146.344971   \n",
       "2  declaration 10455           586.435608           586.435608   \n",
       "3  declaration 10472           679.303223           679.303223   \n",
       "4  declaration 10552           997.438721           997.438721   \n",
       "\n",
       "   org:role_EMPLOYEE  org:role_ADMINISTRATION  org:role_SUPERVISOR  \\\n",
       "0                1.0                      1.0                  1.0   \n",
       "1                1.0                      1.0                  1.0   \n",
       "2                1.0                      1.0                  1.0   \n",
       "3                1.0                      1.0                  1.0   \n",
       "4                1.0                      1.0                  1.0   \n",
       "\n",
       "   org:role_UNDEFINED  org:role_BUDGETOWNER  org:role_DIRECTOR  \\\n",
       "0                 1.0                   0.0                0.0   \n",
       "1                 1.0                   0.0                0.0   \n",
       "2                 1.0                   1.0                0.0   \n",
       "3                 1.0                   1.0                0.0   \n",
       "4                 1.0                   1.0                0.0   \n",
       "\n",
       "   org:role_MISSING  ...  Permit REJECTED by MISSING  \\\n",
       "0               0.0  ...                           0   \n",
       "1               0.0  ...                           0   \n",
       "2               0.0  ...                           0   \n",
       "3               0.0  ...                           0   \n",
       "4               0.0  ...                           0   \n",
       "\n",
       "   Permit REJECTED by PRE_APPROVER  Permit REJECTED by SUPERVISOR  \\\n",
       "0                                0                              0   \n",
       "1                                0                              0   \n",
       "2                                0                              1   \n",
       "3                                0                              0   \n",
       "4                                0                              0   \n",
       "\n",
       "   Permit SUBMITTED by EMPLOYEE Request Payment Send Reminder Start trip  \\\n",
       "0                             1               1             0          1   \n",
       "1                             1               1             0          1   \n",
       "2                             2               1             0          1   \n",
       "3                             1               1             0          1   \n",
       "4                             2               1             0          1   \n",
       "\n",
       "  token_fitness  trace_duration_days  num_events  \n",
       "0      0.958333             8.043854          10  \n",
       "1      0.969697            97.312303          13  \n",
       "2      0.974359            40.138924          17  \n",
       "3      0.869565            14.404468          12  \n",
       "4      0.957447            62.796690          19  \n",
       "\n",
       "[5 rows x 53 columns]"
      ]
     },
     "execution_count": 11,
     "metadata": {},
     "output_type": "execute_result"
    }
   ],
   "source": [
    "features_ev_count_df.head()"
   ]
  }
 ],
 "metadata": {
  "kernelspec": {
   "display_name": "Python 3",
   "language": "python",
   "name": "python3"
  },
  "language_info": {
   "codemirror_mode": {
    "name": "ipython",
    "version": 3
   },
   "file_extension": ".py",
   "mimetype": "text/x-python",
   "name": "python",
   "nbconvert_exporter": "python",
   "pygments_lexer": "ipython3",
   "version": "3.10.2"
  }
 },
 "nbformat": 4,
 "nbformat_minor": 2
}
